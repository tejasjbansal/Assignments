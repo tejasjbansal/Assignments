{
  "metadata": {
    "language_info": {
      "codemirror_mode": {
        "name": "python",
        "version": 3
      },
      "file_extension": ".py",
      "mimetype": "text/x-python",
      "name": "python",
      "nbconvert_exporter": "python",
      "pygments_lexer": "ipython3",
      "version": "3.8"
    },
    "kernelspec": {
      "name": "python",
      "display_name": "Pyolite",
      "language": "python"
    }
  },
  "nbformat_minor": 4,
  "nbformat": 4,
  "cells": [
    {
      "cell_type": "markdown",
      "source": "# List_remove_append\nDescription: Remove SPSS from input_list=['SAS', 'R', 'PYTHON', 'SPSS'] and add 'SPARK'\nin its place.",
      "metadata": {}
    },
    {
      "cell_type": "code",
      "source": "input_list=['SAS', 'R', 'PYTHON', 'SPSS']\ninput_list[3] = 'SPARK'\nprint(input_list)",
      "metadata": {
        "trusted": true
      },
      "execution_count": 3,
      "outputs": [
        {
          "name": "stdout",
          "text": "['SAS', 'R', 'PYTHON', 'SPARK']\n",
          "output_type": "stream"
        }
      ]
    },
    {
      "cell_type": "markdown",
      "source": "# String to List Conversion\nDescription: Convert a string input_str = 'I love Data Science & Python' to a list by\nsplitting it on ‘&’. The sample output for this string will be:",
      "metadata": {}
    },
    {
      "cell_type": "code",
      "source": "input_str = 'I love Data Science & Python'\nconver_str_to_lst = input_str.split(\"&\")\nprint(conver_str_to_lst)",
      "metadata": {
        "trusted": true
      },
      "execution_count": 4,
      "outputs": [
        {
          "name": "stdout",
          "text": "['I love Data Science ', ' Python']\n",
          "output_type": "stream"
        }
      ]
    },
    {
      "cell_type": "markdown",
      "source": "# List to String Conversion\nDescription: Convert a list ['Pythons syntax is easy to learn', 'Pythons syntax is very\nclear'] to a string using ‘&’. The sample output of this string will be:",
      "metadata": {}
    },
    {
      "cell_type": "code",
      "source": "inp_list=['Pythons syntax is easy to learn', 'Pythons syntax is very clear']\ncon_str_to_lst = \" & \".join(inp_list)\nprint(con_str_to_lst)",
      "metadata": {
        "trusted": true
      },
      "execution_count": 7,
      "outputs": [
        {
          "name": "stdout",
          "text": "Pythons syntax is easy to learn & Pythons syntax is very clear\n",
          "output_type": "stream"
        }
      ]
    },
    {
      "cell_type": "markdown",
      "source": "# Nested List\nDescription: Extract Python from a nested list\ninput_list = [['SAS','R'],['Tableau','SQL'],['Python','Java']]",
      "metadata": {}
    },
    {
      "cell_type": "code",
      "source": "input_list = [['SAS','R'],['Tableau','SQL'],['Python','Java']]\nprint(input_list[2][0])",
      "metadata": {
        "trusted": true
      },
      "execution_count": 11,
      "outputs": [
        {
          "name": "stdout",
          "text": "Python\n",
          "output_type": "stream"
        }
      ]
    },
    {
      "cell_type": "markdown",
      "source": "# It’s the time to disco\nDescription: t = (\"disco\", 12, 4.5)\nWhat is the output of: t[0][2]",
      "metadata": {}
    },
    {
      "cell_type": "code",
      "source": "t = (\"disco\", 12, 4.5)\nprint(t[0][2])",
      "metadata": {
        "trusted": true
      },
      "execution_count": 12,
      "outputs": [
        {
          "name": "stdout",
          "text": "s\n",
          "output_type": "stream"
        }
      ]
    },
    {
      "cell_type": "markdown",
      "source": "# String Palindrome\nDescription: Write a program to check whether a string is a palindrome or not. Print 1 if\nthe string is a palindrome and 0 otherwise.",
      "metadata": {}
    },
    {
      "cell_type": "code",
      "source": "input_str = \"AAAAAA\"\nrev_str = input_str[::-1]\nif input_str == rev_str:\n    print(1)\nelse:\n    print(0)",
      "metadata": {
        "trusted": true
      },
      "execution_count": 19,
      "outputs": [
        {
          "name": "stdout",
          "text": "1\n",
          "output_type": "stream"
        }
      ]
    },
    {
      "cell_type": "markdown",
      "source": "# Reverse Words\nDescription: You will be given a sentence in the form of a string. You have to reverse the\norder of the words in the sentence. Remember not to reverse the individual words, but\nthe order of words. Check the sample input-output for further clarification.\nInput: A string, which will consist of a few spaces.\nOutput: The words in reverse order\n",
      "metadata": {}
    },
    {
      "cell_type": "code",
      "source": "input_str = \"A string, which will consist of a few spaces.\"\nrevword=\"\"\nfor x in input_str[::-1]:\n    revword+=x\n    \nprint(revword)",
      "metadata": {
        "trusted": true
      },
      "execution_count": 30,
      "outputs": [
        {
          "name": "stdout",
          "text": ".secaps wef a fo tsisnoc lliw hcihw ,gnirts A\n",
          "output_type": "stream"
        }
      ]
    },
    {
      "cell_type": "markdown",
      "source": "# String Formatting\nDescription: Write a program that satisfies below examples \\\nInput 1: caloRie ConsuMed \\\nOutput 1: calorie_consumed \\\nInput 2: data science \\\nOutput 2: data_science \\\nInput 3: datascience \\\nOutput 3: datascience",
      "metadata": {}
    },
    {
      "cell_type": "code",
      "source": "inp_lst = [\"caloRie ConsuMed\",\"data science\",\"datascience\"]\nnewlist = [x.lower() for x in inp_lst]\nresult = [x.replace(\" \",\"_\") for x in newlist]\nprint(result)",
      "metadata": {
        "trusted": true
      },
      "execution_count": 27,
      "outputs": [
        {
          "name": "stdout",
          "text": "['calorie_consumed', 'data_science', 'datascience']\n",
          "output_type": "stream"
        }
      ]
    },
    {
      "cell_type": "markdown",
      "source": "# Multiple Choice Questions",
      "metadata": {}
    },
    {
      "cell_type": "raw",
      "source": "1. How will you extract ‘love’ from the string S = “I love Python”? (More than one\noption may be correct.).\na. S[2:5]\nb. S[2:6]\nc. S[3:7]\nd. S[-11:-7]\ne. S[-11:-8]",
      "metadata": {}
    },
    {
      "cell_type": "code",
      "source": "# Answer b. S[2:6]",
      "metadata": {
        "trusted": true
      },
      "execution_count": 35,
      "outputs": []
    },
    {
      "cell_type": "raw",
      "source": "2. What will the output of 3 * 3 ** 3 be?\na. 9\nb. 27\nc. 81\nd. 72",
      "metadata": {}
    },
    {
      "cell_type": "code",
      "source": "# Answer c. 81",
      "metadata": {
        "trusted": true
      },
      "execution_count": 34,
      "outputs": []
    },
    {
      "cell_type": "raw",
      "source": "3. What will the output be of ((500//7) % 5) ** 3?\na. 1\nb. 2.91\nc. 71.42\nd. 0\ne. 8",
      "metadata": {}
    },
    {
      "cell_type": "code",
      "source": "# Answer a. 1",
      "metadata": {
        "trusted": true
      },
      "execution_count": 37,
      "outputs": []
    },
    {
      "cell_type": "raw",
      "source": "4. If you have a tuple T = (3, 5, 7, 11), what will the output of T.append(9) be?\na. (3, 5, 7, 9, 11)\nb. (9, 3, 5, 7, 11)\nc. (3, 5, 7, 11, 9)\nd. Error\n",
      "metadata": {}
    },
    {
      "cell_type": "code",
      "source": "# Answer d. Error",
      "metadata": {
        "trusted": true
      },
      "execution_count": 39,
      "outputs": []
    },
    {
      "cell_type": "raw",
      "source": "5. What will the output of the following program be?\na. Vikas\nb. Mahima\nc. y\nd. A",
      "metadata": {}
    },
    {
      "cell_type": "code",
      "source": "# Answer ",
      "metadata": {},
      "execution_count": null,
      "outputs": []
    },
    {
      "cell_type": "raw",
      "source": "6. What will the output of the following code be?\n1 = [32, 34, 12, 27, 33]\nl.append((l4, 19))\nprint(len(l))\n\na. 5\nb. 6\nc. 7\nd. The code will throw an error",
      "metadata": {}
    },
    {
      "cell_type": "code",
      "source": "# Answer c. 7",
      "metadata": {},
      "execution_count": null,
      "outputs": []
    },
    {
      "cell_type": "raw",
      "source": "7. Which of the following statements is incorrect regarding sets in Python?\na. Sets do not contain duplicate elements\nb. Sets are represented using curly braces {}\nc. Sets are immutable\nd. All of the above",
      "metadata": {}
    },
    {
      "cell_type": "code",
      "source": "# Answer c. Sets are immutable",
      "metadata": {},
      "execution_count": null,
      "outputs": []
    },
    {
      "cell_type": "raw",
      "source": "8. What will the output be of the following code?\n\n\nD = {1:['Raj', 22], 2:['Simran', 21], 3:['Rahul', 40]}\nfor val in D:\n    print(val)\n\na. 1\n   2\n   3\nb. [‘Raj’, 22]\n   [‘Simran’, 21]\n   [‘Rahul’, 40]\nc. 1 [‘Raj’, 22]\n   2 [‘Simran’, 21]\n   3 [‘Rahul’, 40]\nd. ‘Raj’\n   ‘Simran’\n   ‘Rahul’\n   \n",
      "metadata": {}
    },
    {
      "cell_type": "code",
      "source": "# Answer a. 1\n#           2\n#           3",
      "metadata": {
        "trusted": true
      },
      "execution_count": 45,
      "outputs": []
    },
    {
      "cell_type": "raw",
      "source": "9. What will the ‘comprehension equivalent’ be for the following snippet of code?\nfor sentence in paragraph:\n    for word in sentence.split():\n        single_word_list.append(word)\n        \na. word for sentence in paragraph for word in sentence.split()\nb. [word for sentence in paragraph for word in sentence.split()]\nc. word for word in sentence.split() for sentence in paragraph\nd. [word for word in sentence.split() for sentence in paragraph]",
      "metadata": {}
    },
    {
      "cell_type": "code",
      "source": "# Answer b. [word for sentence in paragraph for word in sentence.split()]",
      "metadata": {
        "trusted": true
      },
      "execution_count": 52,
      "outputs": []
    },
    {
      "cell_type": "raw",
      "source": "10.What will be the output of this code?\nprint(list(range{l0, 1, -1)))\na. [10, 9, 8, 7, 6, 5, 4, 3, 2, 1]\nb. [9, 8, 7, 6, 5, 4, 3, 2]\nc. [9, 8, 7, 6, 5, 4, 3, 2, 1]\nd. [10, 9, 8, 7, 6, 5, 4, 3, 2]",
      "metadata": {}
    },
    {
      "cell_type": "code",
      "source": "# Answer d. [10, 9, 8, 7, 6, 5, 4, 3, 2]",
      "metadata": {
        "trusted": true
      },
      "execution_count": 53,
      "outputs": []
    },
    {
      "cell_type": "code",
      "source": "",
      "metadata": {},
      "execution_count": null,
      "outputs": []
    }
  ]
}